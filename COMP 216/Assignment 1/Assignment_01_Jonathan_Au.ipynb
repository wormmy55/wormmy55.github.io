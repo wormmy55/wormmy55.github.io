{
  "nbformat": 4,
  "nbformat_minor": 0,
  "metadata": {
    "colab": {
      "provenance": []
    },
    "kernelspec": {
      "name": "python3",
      "display_name": "Python 3"
    },
    "language_info": {
      "name": "python"
    }
  },
  "cells": [
    {
      "cell_type": "markdown",
      "source": [],
      "metadata": {
        "id": "eeuzi6zBmAAq"
      }
    },
    {
      "cell_type": "code",
      "metadata": {
        "id": "y8VOh811A9bE"
      },
      "source": [
        "#@title COMP216 Lab exercise 1.\n",
        "# Please save this notebook as your name\n",
        "#\n",
        "# Please insert your name, student number, course and date\n",
        "# is the proper spots below.\n",
        "#\n",
        "# copyrights Narendra Pershad\n",
        "#"
      ],
      "execution_count": 4,
      "outputs": []
    },
    {
      "cell_type": "markdown",
      "metadata": {
        "id": "Fq8nbpafpY0U"
      },
      "source": [
        "**Name: Jonathan Au  \n",
        "Sid: 300827701  \n",
        "Course: COMP216-403  \n",
        "Date: January 10, 2024**  \n",
        "\n",
        "---\n",
        "\n",
        "##Instructions\n",
        "1. Complete the exercises as far as you possibly can\n",
        "2. Rename the workbook to your first name  \n",
        "3. Make sure that the notebook is shareable\n",
        "4. Upload a link to the Assessment folder in brightspace  \n",
        "5. You code must work even if the original variable changes\n",
        "---\n",
        "If you leave the notebook and/or start working at mid-way in the notebook, you will have to execute the first cell again to re-load the variable etc.\n",
        "##Questions: [47.5 Marks]\n",
        "- [Working with Sets](#set)\n",
        "- [Working with Tuples](#tuple)\n",
        "- [Working with Lists](#list)\n",
        "- [Working with Dictionaries](#dict)\n",
        "- [Conversions between Collections](#conversion)\n",
        "- [Iterate a collection](#iterate)\n",
        "- [Using the enumerate function](#enumerate)\n",
        "\n"
      ]
    },
    {
      "cell_type": "code",
      "metadata": {
        "id": "a_L-qS0vKURp"
      },
      "source": [
        "#imports and variables\n",
        "from random import randint\n",
        "\n",
        "#the following variable will be used in the rest of the exercise\n",
        "pm = 'justin pierre james trudeau'\n",
        "instructor = 'narendra pershad'\n",
        "harry = \"You've gotta ask yourself a question: do I feel lucky? …well, do ya, punk?\"\n",
        "numbers = [randint(5, 10) for _ in range(20)]\n"
      ],
      "execution_count": 67,
      "outputs": []
    },
    {
      "cell_type": "markdown",
      "metadata": {
        "id": "ZgH9uiTwLPfZ"
      },
      "source": [
        "##1. <a name=\"set\"></a>Working with sets [8 Marks]"
      ]
    },
    {
      "cell_type": "code",
      "metadata": {
        "id": "lHCzPapCLVUH",
        "colab": {
          "base_uri": "https://localhost:8080/"
        },
        "outputId": "500637b2-9ba5-4fa4-d722-83317488cf59"
      },
      "source": [
        "# - 1 mark\n",
        "# use the set constructor to create a set (assign the new set to a variable) from the variable 'instructor' and print it\n",
        "set1 = set(instructor)\n",
        "print(set1)\n"
      ],
      "execution_count": 91,
      "outputs": [
        {
          "output_type": "stream",
          "name": "stdout",
          "text": [
            "{'h', 'p', ' ', 'r', 'd', 'e', 'a', 's', 'n'}\n"
          ]
        }
      ]
    },
    {
      "cell_type": "code",
      "metadata": {
        "id": "p2MOv9RIMP8H",
        "colab": {
          "base_uri": "https://localhost:8080/"
        },
        "outputId": "3ade7ebf-45e5-46f2-ac1b-4ac43ee3c424"
      },
      "source": [
        "# - 1 mark\n",
        "# use the add() method to add 'z' to the above set and print it\n",
        "set1.add(\"z\")\n",
        "print(set1)\n"
      ],
      "execution_count": 92,
      "outputs": [
        {
          "output_type": "stream",
          "name": "stdout",
          "text": [
            "{'h', 'p', 'z', ' ', 'r', 'd', 'e', 'a', 's', 'n'}\n"
          ]
        }
      ]
    },
    {
      "cell_type": "code",
      "metadata": {
        "id": "p2atpDebMV8v",
        "colab": {
          "base_uri": "https://localhost:8080/"
        },
        "outputId": "77e055c7-d341-4ce3-ab29-f323f4408b56"
      },
      "source": [
        "# - 1 mark\n",
        "#use the remove() method to take ' ' from the set and print it\n",
        "set1.remove(\"z\")\n",
        "print(set1)\n"
      ],
      "execution_count": 93,
      "outputs": [
        {
          "output_type": "stream",
          "name": "stdout",
          "text": [
            "{'h', 'p', ' ', 'r', 'd', 'e', 'a', 's', 'n'}\n"
          ]
        }
      ]
    },
    {
      "cell_type": "code",
      "metadata": {
        "id": "Il5HqjcfPD8p",
        "colab": {
          "base_uri": "https://localhost:8080/"
        },
        "outputId": "11b35a31-4424-4da1-f00c-16543aa7437c"
      },
      "source": [
        "# - 1 mark\n",
        "# define your own new set (assign the new set to a variable)\n",
        "# use the intersection() method to find the common elements in both sets and print the result\n",
        "set2 = set('Jonathan Au')\n",
        "set1.intersection(set2)\n",
        "print(set1)\n"
      ],
      "execution_count": 94,
      "outputs": [
        {
          "output_type": "stream",
          "name": "stdout",
          "text": [
            "{'h', 'p', ' ', 'r', 'd', 'e', 'a', 's', 'n'}\n"
          ]
        }
      ]
    },
    {
      "cell_type": "code",
      "metadata": {
        "id": "dtCvDvtFPuaw",
        "colab": {
          "base_uri": "https://localhost:8080/"
        },
        "outputId": "9b4fbb62-ae8d-4513-9988-9d72171308af"
      },
      "source": [
        "# - 1 mark\n",
        "# use the union() method to find all the elements occuring in both sets and print the result\n",
        "set1.union(set2)\n",
        "print(set1)\n"
      ],
      "execution_count": 95,
      "outputs": [
        {
          "output_type": "stream",
          "name": "stdout",
          "text": [
            "{'h', 'p', ' ', 'r', 'd', 'e', 'a', 's', 'n'}\n"
          ]
        }
      ]
    },
    {
      "cell_type": "code",
      "metadata": {
        "id": "sRfaBsnvOXEC",
        "colab": {
          "base_uri": "https://localhost:8080/"
        },
        "outputId": "e2a79340-67fb-4428-9928-66f1c55b3042"
      },
      "source": [
        "# - 1 mark\n",
        "#use the pop() method remove and return an arbitrary elements of the set and print it\n",
        "set1.pop()\n",
        "print(set1)\n"
      ],
      "execution_count": 96,
      "outputs": [
        {
          "output_type": "stream",
          "name": "stdout",
          "text": [
            "{'p', ' ', 'r', 'd', 'e', 'a', 's', 'n'}\n"
          ]
        }
      ]
    },
    {
      "cell_type": "code",
      "metadata": {
        "id": "UdKDM8NQ8mPj",
        "colab": {
          "base_uri": "https://localhost:8080/"
        },
        "outputId": "e3f4d4f1-e780-4ab5-b9f0-a401821fe93b"
      },
      "source": [
        "# - 1 mark\n",
        "#use the update() function to add 'x', 'y' and 'z' to the set  and print the result\n",
        "set1.update('x', 'y', 'z')\n",
        "print(set1)\n"
      ],
      "execution_count": 97,
      "outputs": [
        {
          "output_type": "stream",
          "name": "stdout",
          "text": [
            "{'p', 'z', ' ', 'r', 'x', 'd', 'e', 'y', 'a', 's', 'n'}\n"
          ]
        }
      ]
    },
    {
      "cell_type": "code",
      "metadata": {
        "id": "w3hyOYJNMZ2B",
        "colab": {
          "base_uri": "https://localhost:8080/"
        },
        "outputId": "0605c4f1-e79b-4dc0-9429-ba401e5a1838"
      },
      "source": [
        "# - 1 mark\n",
        "#use the len() function to get the number of elements in the set and print the result\n",
        "print (len(set1))\n"
      ],
      "execution_count": 98,
      "outputs": [
        {
          "output_type": "stream",
          "name": "stdout",
          "text": [
            "11\n"
          ]
        }
      ]
    },
    {
      "cell_type": "markdown",
      "metadata": {
        "id": "2oaEJMH7QP8f"
      },
      "source": [
        "##2. <a name=\"tuple\"></a>Working with tuples [6 Marks]\n",
        "Because a tuple is immutable, methods like add(), remove(), pop() does not exist for tuples"
      ]
    },
    {
      "cell_type": "code",
      "metadata": {
        "id": "WGSZ9yrHRFV_",
        "colab": {
          "base_uri": "https://localhost:8080/"
        },
        "outputId": "e6499932-e407-4f8f-8114-d3a50e2f1711"
      },
      "source": [
        "# - 1 mark\n",
        "# Use the tuple constructor to create a tuple (assign the new set to a variable) from the variable pm and print it\n",
        "tup = tuple(pm)\n",
        "print(tup)\n"
      ],
      "execution_count": 12,
      "outputs": [
        {
          "output_type": "stream",
          "name": "stdout",
          "text": [
            "('j', 'u', 's', 't', 'i', 'n', ' ', 'p', 'i', 'e', 'r', 'r', 'e', ' ', 'j', 'a', 'm', 'e', 's', ' ', 't', 'r', 'u', 'd', 'e', 'a', 'u')\n"
          ]
        }
      ]
    },
    {
      "cell_type": "code",
      "metadata": {
        "id": "GTtqEpSJSghH",
        "colab": {
          "base_uri": "https://localhost:8080/"
        },
        "outputId": "ff4807a5-9c96-49bd-ff23-eca4cf49882e"
      },
      "source": [
        "# - 3 marks\n",
        "# write the statement to produced the following lines of output\n",
        "\n",
        "## There are 4 e's in the tuple                   #use the count() method\n",
        "## You can find a at index 15 of the tuple        #use the index() method\n",
        "## There are 27 elements in the tuple             #use the len() function\n",
        "count = tup.count('e')\n",
        "index = tup.index('a')\n",
        "length = len(tup)\n",
        "\n",
        "print(count)\n",
        "print(index)\n",
        "print(length)"
      ],
      "execution_count": 13,
      "outputs": [
        {
          "output_type": "stream",
          "name": "stdout",
          "text": [
            "4\n",
            "15\n",
            "27\n"
          ]
        }
      ]
    },
    {
      "cell_type": "code",
      "metadata": {
        "id": "CM_JupCbXjyy",
        "colab": {
          "base_uri": "https://localhost:8080/"
        },
        "outputId": "8aebcf44-2b5e-4b1c-c078-6f8b1d38100b"
      },
      "source": [
        "# - 1 mark\n",
        "# use decomposition to print the first, second and the rest of the elements of your tuple\n",
        "x, y, *z = tup\n",
        "print(x)\n",
        "print(y)\n",
        "print(z)"
      ],
      "execution_count": 14,
      "outputs": [
        {
          "output_type": "stream",
          "name": "stdout",
          "text": [
            "j\n",
            "u\n",
            "['s', 't', 'i', 'n', ' ', 'p', 'i', 'e', 'r', 'r', 'e', ' ', 'j', 'a', 'm', 'e', 's', ' ', 't', 'r', 'u', 'd', 'e', 'a', 'u']\n"
          ]
        }
      ]
    },
    {
      "cell_type": "code",
      "metadata": {
        "id": "WC-6oIaBYMoQ",
        "colab": {
          "base_uri": "https://localhost:8080/"
        },
        "outputId": "98e444d9-b51d-4ac0-cae9-20393c1196e5"
      },
      "source": [
        "# - 1 mark\n",
        "# use array-like indexing to print the third and fifth element of your tuple\n",
        "a, b, c, d, e, *f = tup\n",
        "print(c)\n",
        "print(e)"
      ],
      "execution_count": 15,
      "outputs": [
        {
          "output_type": "stream",
          "name": "stdout",
          "text": [
            "s\n",
            "i\n"
          ]
        }
      ]
    },
    {
      "cell_type": "markdown",
      "metadata": {
        "id": "wwfdU9TB440D"
      },
      "source": [
        "##3. <a name=\"list\"></a>Working with list [10 Marks]"
      ]
    },
    {
      "cell_type": "code",
      "metadata": {
        "id": "121JIXl2qXtT",
        "colab": {
          "base_uri": "https://localhost:8080/"
        },
        "outputId": "f4635ac7-e467-4d6b-8a78-04c69e28df2b"
      },
      "source": [
        "# - 1 mark\n",
        "# Use the list constructor to create a list  (assign the new set to a variable) from the variable 'harry' using the split() method\n",
        "# of the string class and print it\n",
        "list_harry = harry.split()\n",
        "#split = list.split()\n",
        "print(list_harry)"
      ],
      "execution_count": 16,
      "outputs": [
        {
          "output_type": "stream",
          "name": "stdout",
          "text": [
            "[\"You've\", 'gotta', 'ask', 'yourself', 'a', 'question:', 'do', 'I', 'feel', 'lucky?', '…well,', 'do', 'ya,', 'punk?']\n"
          ]
        }
      ]
    },
    {
      "cell_type": "code",
      "metadata": {
        "id": "lfNTrz6arJWc",
        "colab": {
          "base_uri": "https://localhost:8080/"
        },
        "outputId": "c2c921b8-1f49-443c-a7ad-983851e399d1"
      },
      "source": [
        "# - 4 marks\n",
        "# use the append() method once to add 'Eastwood' to the end of the  list\n",
        "# use the insert() method to add 'Clint' at the start of the  list\n",
        "# use the remove() method to remove 'question' from the list\n",
        "# use the extend() method to add 'Dirty' and 'Harry' to the end of the list\n",
        "# print the final list\n",
        "list_harry.append('Eastwood')\n",
        "list_harry.insert(0, 'Clint')\n",
        "list_harry.remove('question:')\n",
        "list_harry.extend('Dirty Harry'.split())\n",
        "print(list_harry)\n"
      ],
      "execution_count": 17,
      "outputs": [
        {
          "output_type": "stream",
          "name": "stdout",
          "text": [
            "['Clint', \"You've\", 'gotta', 'ask', 'yourself', 'a', 'do', 'I', 'feel', 'lucky?', '…well,', 'do', 'ya,', 'punk?', 'Eastwood', 'Dirty', 'Harry']\n"
          ]
        }
      ]
    },
    {
      "cell_type": "code",
      "metadata": {
        "id": "K-sKKdxPsbW8",
        "colab": {
          "base_uri": "https://localhost:8080/"
        },
        "outputId": "491089f1-6027-499c-ff53-2346d4f4e737"
      },
      "source": [
        "# - 2 marks\n",
        "# use the sort() method to order the  list\n",
        "# print the list\n",
        "# use the reverse() method to reverse the list\n",
        "# print the final list\n",
        "list_harry.sort()\n",
        "print(list_harry)\n",
        "list_harry.reverse()\n",
        "print(list_harry)\n"
      ],
      "execution_count": 18,
      "outputs": [
        {
          "output_type": "stream",
          "name": "stdout",
          "text": [
            "['Clint', 'Dirty', 'Eastwood', 'Harry', 'I', \"You've\", 'a', 'ask', 'do', 'do', 'feel', 'gotta', 'lucky?', 'punk?', 'ya,', 'yourself', '…well,']\n",
            "['…well,', 'yourself', 'ya,', 'punk?', 'lucky?', 'gotta', 'feel', 'do', 'do', 'ask', 'a', \"You've\", 'I', 'Harry', 'Eastwood', 'Dirty', 'Clint']\n"
          ]
        }
      ]
    },
    {
      "cell_type": "code",
      "metadata": {
        "id": "SZORK7R4tZWj",
        "colab": {
          "base_uri": "https://localhost:8080/"
        },
        "outputId": "695451fa-cf88-44e3-a4ca-6534d8709cc3"
      },
      "source": [
        "# - 3 mark\n",
        "# write the statement to produced the following lines of output\n",
        "\n",
        "## There are 2 do's in the list\n",
        "## You can find \"ask\" at index 9 of the list\n",
        "## There are 17 elements in the list\n",
        "count = list_harry.count('do')\n",
        "index = list_harry.index('ask')\n",
        "length = len(list_harry)\n",
        "\n",
        "print(count)\n",
        "print(index)\n",
        "print(length)"
      ],
      "execution_count": 19,
      "outputs": [
        {
          "output_type": "stream",
          "name": "stdout",
          "text": [
            "2\n",
            "9\n",
            "17\n"
          ]
        }
      ]
    },
    {
      "cell_type": "markdown",
      "metadata": {
        "id": "euby2eba0kWr"
      },
      "source": [
        "##4. <a name=\"dic\"></a>Working with dictionary [4 Marks]"
      ]
    },
    {
      "cell_type": "code",
      "metadata": {
        "id": "_8bhodZDy3QU"
      },
      "source": [
        "#use the following dictionary for your exercises\n",
        "d = {\n",
        "    3462: 'Artificial Intelligence',\n",
        "    3468: 'Software Engineering Technician',\n",
        "    3469: 'Software Engineering Technology',\n",
        "    3472: 'Artificial Intelligence (FT)',\n",
        "    3478: 'Software Engineering Technician (FT)',\n",
        "    3528: 'Health Informatics Technology (FT)',\n",
        "    3609: 'Game - Programming',\n",
        "    3668: 'Health Informatics Technology',\n",
        "    3679: 'Game - Programming (FT)'}\n"
      ],
      "execution_count": 20,
      "outputs": []
    },
    {
      "cell_type": "code",
      "metadata": {
        "id": "4tdwer_42A6D",
        "colab": {
          "base_uri": "https://localhost:8080/",
          "height": 173
        },
        "outputId": "669e9e58-4195-466f-c42c-92e249105384"
      },
      "source": [
        "# - 1 mark\n",
        "# display the dictionary\n",
        "\n",
        "display(d)"
      ],
      "execution_count": 21,
      "outputs": [
        {
          "output_type": "display_data",
          "data": {
            "text/plain": [
              "{3462: 'Artificial Intelligence',\n",
              " 3468: 'Software Engineering Technician',\n",
              " 3469: 'Software Engineering Technology',\n",
              " 3472: 'Artificial Intelligence (FT)',\n",
              " 3478: 'Software Engineering Technician (FT)',\n",
              " 3528: 'Health Informatics Technology (FT)',\n",
              " 3609: 'Game - Programming',\n",
              " 3668: 'Health Informatics Technology',\n",
              " 3679: 'Game - Programming (FT)'}"
            ]
          },
          "metadata": {}
        }
      ]
    },
    {
      "cell_type": "code",
      "metadata": {
        "id": "vwTwWh5j3wmb",
        "colab": {
          "base_uri": "https://localhost:8080/",
          "height": 69
        },
        "outputId": "ae56b02f-c4e6-4275-b1d4-52e44f704b31"
      },
      "source": [
        "# - 1 mark\n",
        "# use the keys() and values() method to display the keys and values\n",
        "\n",
        "keys = d.keys()\n",
        "values = d.values()\n",
        "\n",
        "display(keys)\n",
        "display(values)"
      ],
      "execution_count": 22,
      "outputs": [
        {
          "output_type": "display_data",
          "data": {
            "text/plain": [
              "dict_keys([3462, 3468, 3469, 3472, 3478, 3528, 3609, 3668, 3679])"
            ]
          },
          "metadata": {}
        },
        {
          "output_type": "display_data",
          "data": {
            "text/plain": [
              "dict_values(['Artificial Intelligence', 'Software Engineering Technician', 'Software Engineering Technology', 'Artificial Intelligence (FT)', 'Software Engineering Technician (FT)', 'Health Informatics Technology (FT)', 'Game - Programming', 'Health Informatics Technology', 'Game - Programming (FT)'])"
            ]
          },
          "metadata": {}
        }
      ]
    },
    {
      "cell_type": "code",
      "metadata": {
        "id": "ExUGyOP--_wM",
        "colab": {
          "base_uri": "https://localhost:8080/",
          "height": 54
        },
        "outputId": "4d1fa51a-1424-4551-b167-2422bcea7beb"
      },
      "source": [
        "# - 2 mark\n",
        "# Use the key-index technique to retrieve the name of program 3462\n",
        "# Use the get() method to retrieve the name of program 3462\n",
        "# Is there a difference?\n",
        "prog_num = 3462\n",
        "key_index = d[prog_num]\n",
        "get_method = d.get(3462)\n",
        "\n",
        "\n",
        "display(key_index)\n",
        "display(get_method)"
      ],
      "execution_count": 23,
      "outputs": [
        {
          "output_type": "display_data",
          "data": {
            "text/plain": [
              "'Artificial Intelligence'"
            ],
            "application/vnd.google.colaboratory.intrinsic+json": {
              "type": "string"
            }
          },
          "metadata": {}
        },
        {
          "output_type": "display_data",
          "data": {
            "text/plain": [
              "'Artificial Intelligence'"
            ],
            "application/vnd.google.colaboratory.intrinsic+json": {
              "type": "string"
            }
          },
          "metadata": {}
        }
      ]
    },
    {
      "cell_type": "markdown",
      "metadata": {
        "id": "VOKj50Y3iWXq"
      },
      "source": [
        "##5. <a name=\"conversion\"></a>Converting from one collection to another [7.5 Marks]\n",
        "There is free inter-conversions except for dictionary"
      ]
    },
    {
      "cell_type": "code",
      "metadata": {
        "id": "e7tcL28HMuBc",
        "colab": {
          "base_uri": "https://localhost:8080/"
        },
        "outputId": "7ddb9231-9377-4838-8b60-b20dc6d34104"
      },
      "source": [
        "# - 2.5 marks\n",
        "# Use the constructor to obtain a set from each of the three previous collections\n",
        "# (parts 2, 3 and 4) and print them.\n",
        "# Notice the iterator variable the dictionary loop represents only the key\n",
        "set12 = set(tup)\n",
        "set13 = set(list_harry)\n",
        "set14 = set(d)\n",
        "\n",
        "print(set12)\n",
        "print(set13)\n",
        "print(set14)"
      ],
      "execution_count": 99,
      "outputs": [
        {
          "output_type": "stream",
          "name": "stdout",
          "text": [
            "{'p', ' ', 'r', 'j', 't', 'i', 'e', 'u', 'd', 'a', 's', 'n', 'm'}\n",
            "{'ya,', 'lucky?', 'Dirty', 'Eastwood', 'a', 'feel', 'Clint', '…well,', 'punk?', 'yourself', 'do', 'I', \"You've\", 'ask', 'Harry', 'gotta'}\n",
            "{3462, 3528, 3468, 3469, 3472, 3668, 3478, 3609, 3679}\n"
          ]
        }
      ]
    },
    {
      "cell_type": "code",
      "metadata": {
        "id": "2tnfcAeTjWma",
        "colab": {
          "base_uri": "https://localhost:8080/"
        },
        "outputId": "6c8cc4e0-87da-4c53-f314-cf3a576f3d1d"
      },
      "source": [
        "# - 2.5 marks\n",
        "# Use the constructor to obtain a tuple from each of the three previous collections\n",
        "# (parts 1, 3 and 4) and print them.\n",
        "# Again, notice the iterator variable the dictionary loop represents only the key\n",
        "tup11 = tuple(set1)\n",
        "tup13 = tuple(list_harry)\n",
        "tup14 = tuple(d)\n",
        "\n",
        "print(tup11)\n",
        "print(tup13)\n",
        "print(tup14)"
      ],
      "execution_count": 101,
      "outputs": [
        {
          "output_type": "stream",
          "name": "stdout",
          "text": [
            "('p', 'z', ' ', 'r', 'x', 'd', 'e', 'y', 'a', 's', 'n')\n",
            "('…well,', 'yourself', 'ya,', 'punk?', 'lucky?', 'gotta', 'feel', 'do', 'do', 'ask', 'a', \"You've\", 'I', 'Harry', 'Eastwood', 'Dirty', 'Clint')\n",
            "(3462, 3468, 3469, 3472, 3478, 3528, 3609, 3668, 3679)\n"
          ]
        }
      ]
    },
    {
      "cell_type": "code",
      "metadata": {
        "id": "MTFoztohjmJ0",
        "colab": {
          "base_uri": "https://localhost:8080/"
        },
        "outputId": "e14154b9-668d-48de-b569-c78cf62c9d23"
      },
      "source": [
        "# - 2.5 marks\n",
        "# Use the constructor to obtain a list from each of the three previous collections\n",
        "# (parts 1, 2 and 4) and print them.\n",
        "d11 = dict.fromkeys(set1, 0)\n",
        "d12 = dict.fromkeys(tup, 0)\n",
        "d13 = dict.fromkeys(list_harry, 0)\n",
        "\n",
        "print(d11)\n",
        "print(d12)\n",
        "print(d13)"
      ],
      "execution_count": 102,
      "outputs": [
        {
          "output_type": "stream",
          "name": "stdout",
          "text": [
            "{'p': 0, 'z': 0, ' ': 0, 'r': 0, 'x': 0, 'd': 0, 'e': 0, 'y': 0, 'a': 0, 's': 0, 'n': 0}\n",
            "{'j': 0, 'u': 0, 's': 0, 't': 0, 'i': 0, 'n': 0, ' ': 0, 'p': 0, 'e': 0, 'r': 0, 'a': 0, 'm': 0, 'd': 0}\n",
            "{'…well,': 0, 'yourself': 0, 'ya,': 0, 'punk?': 0, 'lucky?': 0, 'gotta': 0, 'feel': 0, 'do': 0, 'ask': 0, 'a': 0, \"You've\": 0, 'I': 0, 'Harry': 0, 'Eastwood': 0, 'Dirty': 0, 'Clint': 0}\n"
          ]
        }
      ]
    },
    {
      "cell_type": "markdown",
      "metadata": {
        "id": "LE9UmvppKbDg"
      },
      "source": [
        "##6. <a name=\"iterate\"></a>Iterating a collection [4 Marks]\n",
        "The for-in loop facilates iterating a collection"
      ]
    },
    {
      "cell_type": "code",
      "metadata": {
        "id": "z5ABdjvpKufk",
        "colab": {
          "base_uri": "https://localhost:8080/"
        },
        "outputId": "0a4f6bbe-8e7f-4333-bb3d-efb4ffbec32f"
      },
      "source": [
        "# - 4 mark\n",
        "# Use a for-in loop to print each of the previous collection: set, tuple, list and dict\n",
        "# Notice the iterator variable the dictionary loop represents only the key\n",
        "looper = (set1, tup, list_harry, d)\n",
        "for i in looper:\n",
        "  print (i)\n"
      ],
      "execution_count": 106,
      "outputs": [
        {
          "output_type": "stream",
          "name": "stdout",
          "text": [
            "{'p', 'z', ' ', 'r', 'x', 'd', 'e', 'y', 'a', 's', 'n'}\n",
            "('j', 'u', 's', 't', 'i', 'n', ' ', 'p', 'i', 'e', 'r', 'r', 'e', ' ', 'j', 'a', 'm', 'e', 's', ' ', 't', 'r', 'u', 'd', 'e', 'a', 'u')\n",
            "['…well,', 'yourself', 'ya,', 'punk?', 'lucky?', 'gotta', 'feel', 'do', 'do', 'ask', 'a', \"You've\", 'I', 'Harry', 'Eastwood', 'Dirty', 'Clint']\n",
            "{3462: 'Artificial Intelligence', 3468: 'Software Engineering Technician', 3469: 'Software Engineering Technology', 3472: 'Artificial Intelligence (FT)', 3478: 'Software Engineering Technician (FT)', 3528: 'Health Informatics Technology (FT)', 3609: 'Game - Programming', 3668: 'Health Informatics Technology', 3679: 'Game - Programming (FT)'}\n"
          ]
        }
      ]
    },
    {
      "cell_type": "markdown",
      "metadata": {
        "id": "nKfxb9CFvqD8"
      },
      "source": [
        "##7. <a name=\"enumerate\"></a>Using the enumerate function [8 Marks]\n",
        "This function can enumerate both sequences like sets, tuples, strings and lists as well as mappings like dictionaries  \n",
        "The enumerate function returns a collection of tuples.  \n",
        "Each tuples is a pair comprising of the index and the value."
      ]
    },
    {
      "cell_type": "code",
      "metadata": {
        "id": "hbK7KS7Q2MEd",
        "colab": {
          "base_uri": "https://localhost:8080/"
        },
        "outputId": "1f6eb55c-6195-49d5-b8ed-0ee6867c14ff"
      },
      "source": [
        "# - 4 mark\n",
        "# use the enumerate function to print each collection: set, tuple, list and dict\n",
        "# You must print both the position and the item in the collection\n",
        "print('enumerating a set')\n",
        "for s in set1:\n",
        "  print(s, end=' ')\n",
        "\n",
        "print('\\n\\nenumerating a tuple')\n",
        "for t in tup:\n",
        "  print(t, end=' ')\n",
        "\n",
        "print('\\n\\nenumerating a list')\n",
        "for l in list_harry:\n",
        "  print(l, end=' ')\n",
        "\n",
        "print('\\n\\nenumerating a dictionary')\n",
        "for x in d:\n",
        "  print(f'{x} -> {d[x]}')"
      ],
      "execution_count": 116,
      "outputs": [
        {
          "output_type": "stream",
          "name": "stdout",
          "text": [
            "enumerating a set\n",
            "p z   r x d e y a s n \n",
            "\n",
            "enumerating a tuple\n",
            "j u s t i n   p i e r r e   j a m e s   t r u d e a u \n",
            "\n",
            "enumerating a list\n",
            "…well, yourself ya, punk? lucky? gotta feel do do ask a You've I Harry Eastwood Dirty Clint \n",
            "\n",
            "enumerating a dictionary\n",
            "3462 -> Artificial Intelligence\n",
            "3468 -> Software Engineering Technician\n",
            "3469 -> Software Engineering Technology\n",
            "3472 -> Artificial Intelligence (FT)\n",
            "3478 -> Software Engineering Technician (FT)\n",
            "3528 -> Health Informatics Technology (FT)\n",
            "3609 -> Game - Programming\n",
            "3668 -> Health Informatics Technology\n",
            "3679 -> Game - Programming (FT)\n"
          ]
        }
      ]
    },
    {
      "cell_type": "code",
      "metadata": {
        "id": "FjcZLRgMOQDL",
        "colab": {
          "base_uri": "https://localhost:8080/"
        },
        "outputId": "519ce5ad-af67-4610-eea3-abb1c8408f1f"
      },
      "source": [
        "# - 4 mark\n",
        "# Use the items() method of the dict class to enumerate a dictionary\n",
        "# You must print the position, the key and the value\n",
        "print('\\n\\nenumerating a dictionary using items()')\n",
        "for x, y in d.items():\n",
        "  print(f'{x} -> {y}')"
      ],
      "execution_count": 115,
      "outputs": [
        {
          "output_type": "stream",
          "name": "stdout",
          "text": [
            "\n",
            "\n",
            "enumerating a dictionary using items()\n",
            "3462 -> Artificial Intelligence\n",
            "3468 -> Software Engineering Technician\n",
            "3469 -> Software Engineering Technology\n",
            "3472 -> Artificial Intelligence (FT)\n",
            "3478 -> Software Engineering Technician (FT)\n",
            "3528 -> Health Informatics Technology (FT)\n",
            "3609 -> Game - Programming\n",
            "3668 -> Health Informatics Technology\n",
            "3679 -> Game - Programming (FT)\n"
          ]
        }
      ]
    }
  ]
}