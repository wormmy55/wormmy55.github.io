{
  "nbformat": 4,
  "nbformat_minor": 0,
  "metadata": {
    "colab": {
      "provenance": []
    },
    "kernelspec": {
      "name": "python3",
      "display_name": "Python 3"
    },
    "language_info": {
      "name": "python"
    }
  },
  "cells": [
    {
      "cell_type": "markdown",
      "source": [
        "#Group 1\n",
        "Name: Salma Chaaban <br>\n",
        "Student number: 301216551 <br>\n",
        "Name: Hodan Ahmed Yusuf<br>\n",
        "Student number: 301226634<br>\n",
        "Name: Jonathan Au<br>\n",
        "Student number: 300827701<br>\n",
        "Name: Landon Essex<br>\n",
        "Student number: 301349452<br>\n",
        "Name: Michael Angelo Cabalinan <br>\n",
        "Student number: 300924795 <br>\n",
        "COMP 216 - assignment 11\n"
      ],
      "metadata": {
        "id": "pO867u8dMRmS"
      }
    },
    {
      "cell_type": "markdown",
      "source": [
        "# Lab 12 – Send and receive messages via MQTT.\n",
        "You will implement a client to send structured data to a server. You will also implement a client that will receive the structure data.\n",
        "You will create three separate files for this lab: a subscriber, a publisher and a util. subscriber.\n"
      ],
      "metadata": {
        "id": "dWJgd8jGMUai"
      }
    },
    {
      "cell_type": "markdown",
      "source": [
        "# Wk12a_util.py\n",
        "This file will have the following:\n",
        "1.\tA start_id that will be initially set to 111 or your favourite number. This will be used to number the payload.\n",
        "2.\tA create_data() function that will create and return a dict. This will be the payload.\n",
        "3.\tA print_data() function that will take a dict and print the parts in a human-readable format.<br>\n",
        "The following is a sample of the data I used. You should not use mine, you must come up with something of comparable complexity.<br>\n",
        "\n",
        "```\n",
        "{\n",
        "    'id': 112,                                    #sequence number\n",
        "    'patient': patient,                           #name of patient\n",
        "    'time': time.asctime(),                       #time this was generated\n",
        "    'heart_rate': int(random.gauss(80, 1)),       #heart rate\n",
        "    'respiratory_rate': int(random.gauss(12,2)),  #respiratory rate\n",
        "    'heart_rate_variability': 65,                 #???\n",
        "    'body_temperature': random.gauss(99, 0.5),    #temperature\n",
        "    'blood_pressure': {                           #subkey\n",
        "        'systolic': int(random.gauss(105,2)),     #systolic pressure\n",
        "        'diastolic': int(random.gauss(70,1))      #diastolic pressure\n",
        "    },\n",
        "    'activity': 'Walking'                         #activity\n",
        "}\n",
        "```\n",
        "We can use a class to model our data, but that would be an overkill. Maybe a python dataclass would be a better fit. However a python dict is able to satisfy all of our needs and it is also light weight.\n"
      ],
      "metadata": {
        "id": "1WlTFwZiMUZS"
      }
    },
    {
      "cell_type": "code",
      "source": [
        "import random\n",
        "import time\n",
        "\n",
        "start_id = 111\n",
        "\n",
        "# function that will create and return a dict\n",
        "def create_data(student):\n",
        "  global start_id\n",
        "  data = {\n",
        "        'id': start_id,                                 # sequence number\n",
        "        'student': student,                             # name of student\n",
        "        'time': time.asctime(),                         # time this was generated\n",
        "        \"attendance\": random.randint(0, 100),           # attendance percentage\n",
        "        \"study_hours_per_week\": random.randint(5, 30),  # study hours per week\n",
        "        \"clubs\": [\"Academic\", \"Political\", \"Athletic\"], # participation in clubs\n",
        "        \"test_scores\": {\n",
        "                \"MATH210\": random.randint(60, 100),     # test scores for different courses\n",
        "                \"COMP216\": random.randint(60, 100),\n",
        "                \"GNED500\": random.randint(60, 100)\n",
        "            },\n",
        "        'program': 'Softwr. Eng. Tech. - AI'\n",
        "    }\n",
        "  start_id += 1\n",
        "  return data\n",
        "\n",
        "# function that will take a dict and print the parts in a human-readable format\n",
        "def print_data(data):\n",
        "    print(\"ID:\", data['id'])\n",
        "    print(\"Student:\", data['student'])\n",
        "    print(\"Time:\", data['time'])\n",
        "    print(\"Study hours per week:\", data['study_hours_per_week'])\n",
        "    print(\"Clubs:\", ', '.join(data['clubs']))\n",
        "    print(\"Test scores:\", data['test_scores'])\n",
        "    print(\"Program:\", data['program'])"
      ],
      "metadata": {
        "id": "aP2GlOv1MTuW"
      },
      "execution_count": null,
      "outputs": []
    },
    {
      "cell_type": "markdown",
      "source": [
        "#Wk12a_publisher.py\n",
        "This file will have the following:\n",
        "1.\tCall the above function to obtain a dict.\n",
        "2.\tConvert the above dict to a string. Use json.dumps().\n",
        "3.\tCreate a client.\n",
        "4.\tConnect to the server.\n",
        "5.\tPublish to the server.\n",
        "6.\tPrint a message.\n",
        "7.\tClose the connection.\n",
        "It might be advisable to do multiple transmissions (maybe 10) and sleeping at the end of each cycle.\n"
      ],
      "metadata": {
        "id": "ijWd6wNgMwNz"
      }
    },
    {
      "cell_type": "code",
      "source": [
        "import json\n",
        "import time\n",
        "import paho.mqtt.client as mqtt\n",
        "from Wk12a_util import create_data\n",
        "\n",
        "def publish_data():\n",
        "  client = mqtt.Client()\n",
        "  client.connect(\"test.mosquitto.org\", 1883, 60)\n",
        "\n",
        "try:\n",
        "  for _ in range(10):\n",
        "    data = create_data()\n",
        "    data_string = json.dumps(data)\n",
        "    client.publish(\"student_data\", data_string)\n",
        "    print(\"Data Published:\", data_string)\n",
        "    time.sleep(2)\n",
        "\n",
        "finally:\n",
        "  client.disconnect()\n",
        "  print(\"Disconnected\")"
      ],
      "metadata": {
        "id": "TnpDluzqMybn"
      },
      "execution_count": null,
      "outputs": []
    },
    {
      "cell_type": "markdown",
      "source": [
        "#Wk12a_subscriber.py\n",
        "This file will have the following:\n",
        "1.\tCreate a client.\n",
        "2.\tAssign the on_messege delegate to the function in Step 7.\n",
        "3.\tConnect to the server.\n",
        "4.\tSubscribe to the required topic.\n",
        "5.\tPrint a message.\n",
        "6.\tInvoke the client loop_forever() method.\n",
        "7.\tCreate a function to do the following: (see signature in text or ppt slide)\n",
        "-\tDecode the message.\n",
        "-\tConvert the decoded string to a dict. Use the json.loads() function.\n",
        "-\tCall the function in the first file to print the dictionary.\n"
      ],
      "metadata": {
        "id": "H_eS8vWbMy7Y"
      }
    },
    {
      "cell_type": "code",
      "source": [
        "import json\n",
        "import time\n",
        "import paho.mqtt.client as mqtt\n",
        "from Wk12a_util import create_data\n",
        "\n",
        "def connect():\n",
        "  #Create Client\n",
        "  client = mqtt.Client()\n",
        "\n",
        "  #Connect to server\n",
        "  client.connect(\"test.mosquitto.org\", 1883, 60)\n",
        "\n",
        "  # On_message callback\n",
        "  client.on_message = decode\n",
        "\n",
        "  #Subscribe to topic\n",
        "  client.subscribe(\"student_data\")\n",
        "\n",
        "  #Print a message\n",
        "  print(\"Subscriber successful.\")\n",
        "\n",
        "  #Invoke the client loop_forever() method\n",
        "  client.loop_forever()\n",
        "\n",
        "def decode(client, userdata, message):\n",
        "  try:\n",
        "    #Decode\n",
        "    decoded = message.payload.decode(\"utf-8\")\n",
        "\n",
        "    #Convert decode\n",
        "    convert_decode = json.loads(decoded)\n",
        "\n",
        "    #Call function from 1st file\n",
        "    call_dict = create_data(convert_decode)\n",
        "\n",
        "    except Exception as e:\n",
        "      print(\"Error while decoding message: \", e)\n",
        "\n",
        "#Call the connect function\n",
        "connect()"
      ],
      "metadata": {
        "id": "RL-x3a3xM26w"
      },
      "execution_count": null,
      "outputs": []
    }
  ]
}