{
  "nbformat": 4,
  "nbformat_minor": 0,
  "metadata": {
    "colab": {
      "provenance": [],
      "collapsed_sections": [
        "dnkHWHi0fnrU"
      ]
    },
    "kernelspec": {
      "name": "python3",
      "display_name": "Python 3"
    },
    "language_info": {
      "name": "python"
    }
  },
  "cells": [
    {
      "cell_type": "markdown",
      "source": [
        "Name: Jonathan Au <br>\n",
        "Student ID: 300827701 <br>\n",
        "Date: January 28, 2024 <br>"
      ],
      "metadata": {
        "id": "GqBZGy93zRSc"
      }
    },
    {
      "cell_type": "markdown",
      "source": [
        "# Specifications for the Pizza class\n",
        "The implementation of this class is almost simplistic! All of the methods (except two) are only single code statements. My class implementation is only 30 lines of code.\n",
        "\n",
        "## Class attributes\n",
        "\n",
        "Remember that class members do not have a \"self\" prefix and are accessed with the class name and the dot operator.\n",
        "<br>\n",
        "1. Valid sizes for pizza contained in a collection at the class level.\n",
        "You get to figure out the type of collection to store the sizes below.\n",
        "Valid sizes are small, medium, large and x-large.<br><br>\n",
        "2. Another class level collection having the prices for each valid size.\n",
        "You get to decide on the type of collection to store the prices below.\n",
        "Prices are small: $6.49, medium: $8.49, large: $10.49, x-large: $13.49.\n",
        "\n",
        "## Constructor\n",
        "Instance methods have an implicit first argument \"self\".\n",
        "<br>\n",
        "3. A constructor that takes a default size of medium and topping of a list of cheese that does the following:\n",
        "<br><br>a. Set the first argument size to the instance attribute size. Size must be verified. This can be done by setting the size property.\n",
        "<br><br>b. Creates an instance attribute a list with the second argument. If the second argument is missing, a single cheese topping is inserted in the list.\n",
        "\n",
        "\n",
        "##Instance Methods\n",
        "Instance methods have an implicit first argument \"self\".\n",
        "<br>\n",
        "4.  A method that takes an argument of type list of strings. It adds topping to the list of pizza toppings.\n",
        "5.  Implement the __str__() method to return a formatted string. Examine the output from the test harness for clues on how to implement this method.\n",
        "\n",
        "\n",
        "##Instance Properties\n",
        "Instance properties have an implicit first argument \"self\".\n",
        "6.\tA property that returns the price of the pizza.\n",
        "<br>a.\tPrice is based on the size as well as the number of toppings.\n",
        "See spec#2 for cost based on size. Each topping cost an additional $0.50 each.\n",
        "7.\tA property that returns the size of the pizza.\n",
        "8.\tA property that sets the size of the pizza.\n",
        "<br>a.\tSize must be verified. A ValueError exception is raised if the size is invalid.\n",
        "\n",
        "\n",
        "##Instance Attributes\n",
        "All of the following Instance attributes are initialized in the constructor from the values of the argument. Notice the __ prefix to make is private.\n",
        "<br>\n",
        "9.\t__size is a str that stores the size of this object. This is initialized in the constructor. It is mutated by the property in #8. It is returned in #7. It is used in #6 to calculate the cost of the pizza.\n",
        "10.\t__toppings a list of string that represents the toppings for this object. This is initialized in the constructor. It is mutated in the add() method and is used in #6 to calculate the cost of the pizza."
      ],
      "metadata": {
        "id": "1HKRu5Yk0Ggt"
      }
    },
    {
      "cell_type": "code",
      "source": [
        "class Pizza:\n",
        "  valid_size = ['small', 'medium', 'large', 'x-large']\n",
        "  size_price = dict(zip(valid_size,[6.49, 8.49, 10.49, 13.49]))\n",
        "\n",
        "  def __init__(self, s = 'medium', t = ['cheese']):\n",
        "    self.size = s\n",
        "    self.__toppings = t\n",
        "\n",
        "  def add(self, topping):\n",
        "    self.__toppings += topping\n",
        "    self.__price__()\n",
        "    return self.__toppings\n",
        "\n",
        "  def __str__(self):\n",
        "    return f'{self.size} pizza with {self.__toppings} for ${self.__price__()}'\n",
        "\n",
        "  def __price__(self):\n",
        "    self.price = Pizza.size_price[self.size] + (len(self.__toppings) * 0.50)\n",
        "    return self.price\n",
        "\n",
        "#can't get this to work. any thoughts?\n",
        "class ValueError(Exception):\n",
        "  def __init__(self):\n",
        "    self.size in Pizza.valid_size\n",
        "  def __str__(self):\n",
        "    return f'ERROR: {self.size} is not a valid size for a pizza'\n"
      ],
      "metadata": {
        "id": "FNtjtWy3z5be"
      },
      "execution_count": 68,
      "outputs": []
    },
    {
      "cell_type": "markdown",
      "source": [
        "# Test Harness\n",
        "\n",
        "*I think there was an error on the test harness as the original code was <br>\n",
        "p.add(toppings=toppings)"
      ],
      "metadata": {
        "id": "sG16ISMVzmWI"
      }
    },
    {
      "cell_type": "code",
      "execution_count": 71,
      "metadata": {
        "colab": {
          "base_uri": "https://localhost:8080/"
        },
        "id": "eBSlaRPvyLVS",
        "outputId": "31676eed-a5ef-44ad-cb25-e928ab01dc20"
      },
      "outputs": [
        {
          "output_type": "stream",
          "name": "stdout",
          "text": [
            "Creating a default pizza\n",
            "medium pizza with ['cheese', 'cheese', 'olive'] for $9.99\n",
            "\n",
            "Adding topping: ['cheese', 'olive']\n",
            "medium pizza with ['cheese', 'cheese', 'olive', 'cheese', 'olive'] for $10.99\n",
            "\n",
            "Creating a new pizza\n",
            "large pizza with ['cheese', 'pepper'] for $11.49\n",
            "\n",
            "Adding topping: ['pineapple', 'mushroom']\n",
            "large pizza with ['cheese', 'pepper', 'pineapple', 'mushroom'] for $12.49\n",
            "\n",
            "Changing order size to x-large\n",
            "x-large pizza with ['cheese', 'pepper', 'pineapple', 'mushroom'] for $15.49\n",
            "\n",
            "Changing order size to gigantic\n"
          ]
        }
      ],
      "source": [
        "\n",
        "print(f'Creating a default pizza')\n",
        "p = Pizza()\n",
        "print(p)\n",
        "\n",
        "toppings = 'cheese olive'.split()\n",
        "print(f'\\nAdding topping: {toppings}')\n",
        "p.add(toppings)\n",
        "print(p)\n",
        "\n",
        "print(f'\\nCreating a new pizza')\n",
        "p = Pizza('large', 'cheese pepper'.split())\n",
        "print(p)\n",
        "\n",
        "toppings = ['pineapple', 'mushroom']\n",
        "print(f'\\nAdding topping: {toppings}')\n",
        "p.add(toppings)\n",
        "print(p)\n",
        "\n",
        "size = 'x-large'\n",
        "p.size = size\n",
        "print(f'\\nChanging order size to {size}')\n",
        "print(p)\n",
        "\n",
        "size = 'gigantic'\n",
        "print(f'\\nChanging order size to {size}')\n",
        "try:\n",
        "  p.size = size\n",
        "except ValueError as err:\n",
        "  print(err)\n"
      ]
    },
    {
      "cell_type": "markdown",
      "source": [
        "# Resulting output\n",
        "\n",
        "\n",
        "\n",
        "Creating a default pizza<br>\n",
        "medium pizza with ['cheese'] for $8.99\n",
        "<br><br>\n",
        "\n",
        "Adding topping: ['cheese', 'olive']<br>\n",
        "medium pizza with ['cheese', 'cheese', 'olive'] for $9.99\n",
        "<br><br>\n",
        "\n",
        "Creating a new pizza<br>\n",
        "large pizza with ['cheese', 'pepper'] for $11.49\n",
        "<br><br>\n",
        "\n",
        "Adding topping: ['pineapple', 'mushroom']<br>\n",
        "large pizza with ['cheese', 'pepper', 'pineapple', 'mushroom'] for $12.49\n",
        "<br><br>\n",
        "\n",
        "Changing order size to x-large<br>\n",
        "x-large pizza with ['cheese', 'pepper', 'pineapple', 'mushroom'] for $15.49\n",
        "<br><br>\n",
        "\n",
        "Changing order size to gigantic<br>\n",
        "ERROR: gigantic is not a valid size for a pizza<br>\n"
      ],
      "metadata": {
        "id": "Jo0Vl306d55c"
      }
    },
    {
      "cell_type": "markdown",
      "source": [
        "# Personal code testing"
      ],
      "metadata": {
        "id": "dnkHWHi0fnrU"
      }
    },
    {
      "cell_type": "code",
      "source": [
        "\n",
        "#price = {'small':6.49, 'medium':8.49, 'large':10.49, 'x-large':13.49}\n",
        "price1 = dict(zip(['small', 'medium', 'large', 'x-large'],[6.49, 8.49, 10.49, 13.49]))\n",
        "p = Pizza()\n",
        "#print(p.size)\n",
        "print(p)\n",
        "p = Pizza('large', 'cheese peppers'.split())\n",
        "#size = 'small'\n",
        "print(p)\n",
        "toppings = 'cheese peppers'.split()\n",
        "#topp = ['cheese'] + toppings\n",
        "p.add(toppings)\n",
        "#print(p.size)\n",
        "#print(len(p.toppings))\n",
        "#print(p.price[p.size])\n",
        "#print(p.toppings)\n",
        "print(p)\n",
        "\n",
        "toppings = 'cheese olive'.split()\n",
        "print(f'\\nAdding topping: {toppings}')\n",
        "p.add(toppings)\n",
        "print(p)\n",
        "size = 'gigantic'\n",
        "try:\n",
        "  p.size = size\n",
        "except ValueError as err:\n",
        "  print(err)\n",
        ""
      ],
      "metadata": {
        "id": "yS07N25Wffb9"
      },
      "execution_count": null,
      "outputs": []
    }
  ]
}