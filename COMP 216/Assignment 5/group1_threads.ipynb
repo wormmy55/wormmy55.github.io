{
  "nbformat": 4,
  "nbformat_minor": 0,
  "metadata": {
    "colab": {
      "provenance": []
    },
    "kernelspec": {
      "name": "python3",
      "display_name": "Python 3"
    },
    "language_info": {
      "name": "python"
    }
  },
  "cells": [
    {
      "cell_type": "markdown",
      "source": [
        "Group 1<br>\n",
        "Name: Salma Chaaban<br>\n",
        "Student number: 301216551<br>\n",
        "Name: Hodan Ahmed Yusuf <br>\n",
        "Student number: 301226634 <br>\n",
        "Name: Jonathan Au<br>\n",
        "Student number: 300827701<br>\n",
        "Name: Landon Essex<br>\n",
        "Student number: 301349452 <br>\n",
        "Name: Michael Angelo Cabalinan <br>\n",
        "Student number: <br>"
      ],
      "metadata": {
        "id": "OTeEwpoA7hJ9"
      }
    },
    {
      "cell_type": "markdown",
      "source": [
        "##Description:\n",
        "This exercise consists of four parts: <br><br>\n",
        "  1.\tWrite a function to download a single file. This function will take two arguments: the url of the file (in this case an image from bing) and the pathname (the name of the downloaded file). You will use the request library to do this.<br>\n",
        "  To indicate to the user that the program is alive, you should display the name of the resulting file on the console.<br><br>\n",
        "  2.\tSecond is to write a function to invoke the above function to download a set of images sequentially. That implies that this function will send the appropriate arguments to the above function. The urls are listed below.<br><br>\n",
        "  3.\tThird is to write a function to download the same set of images using threads. You will measure the time taken for both downloads to decide if there is any advantage of using threads.<br><br>\n",
        "  4.\tWrite the logic to check if the script is being executed, if it is, it checks for the command line arguments and process them appropriately and then runs the program accordingly.<br><br>\n",
        "Please download your images to a separate folder so, you can delete the entire folder afterwards.<br>\n",
        "\n",
        "Python frameworks/Modules:<br>\n",
        "•\trequests: This is an external framework that you would have need to run the labs. This would have been on your machine because it was used in previous labs.<br>\n",
        "•\ttime: This is an internal module that is a part of python standard distribution and does not require any separate installation.<br>\n",
        "•\targparse: This is an internal module that is a part of python standard distribution and does not require any separate installation.<br>\n",
        "•\tthreading: This is also an internal module that is a part of python standard distribution and does not require any separate installation.<br>\n",
        "•\tNO OTHER LIBRARY IS PERMITTED!!!. Unless you justify to me in your code.\n"
      ],
      "metadata": {
        "id": "c1b72EJ4_VzS"
      }
    },
    {
      "cell_type": "code",
      "source": [
        "# Imports\n",
        "import requests\n",
        "from time import perf_counter\n",
        "from threading import Thread"
      ],
      "metadata": {
        "id": "K9FezG02DIVK"
      },
      "execution_count": null,
      "outputs": []
    },
    {
      "cell_type": "code",
      "source": [
        "urls = [\n",
        "'https://th.bing.com/th/id/OIP.z-dkECmUFma29zYrb27JkwAAAA?w=264&h=180&c=7&r=0&o=5&pid=1.7',\n",
        "'https://th.bing.com/th/id/OIP.MhwSzfXnBG1MpuuA6IFi-AAAAA?w=218&h=180&c=7&r=0&o=5&pid=1.7',\n",
        "'https://th.bing.com/th/id/OIP.m8b7Y9-81Q4UMCBMaFkw2QAAAA?w=198&h=180&c=7&r=0&o=5&pid=1.7',\n",
        "'https://th.bing.com/th/id/OIP.XN9D7tH47WNJ8h214YgqTwAAAA?w=220&h=180&c=7&r=0&o=5&pid=1.7',\n",
        "'https://th.bing.com/th/id/OIP.cFvfW8dARmuVtR3zOxfTSAHaE9?w=274&h=183&c=7&r=0&o=5&pid=1.7',\n",
        "'https://th.bing.com/th/id/OIP.wcEy7Ow-TaAohBCz6USqCAAAAA?w=265&h=180&c=7&r=0&o=5&pid=1.7',\n",
        "'https://th.bing.com/th/id/OIP.9FWt0sWpi4UOee5o3WdI-QHaFj?w=224&h=180&c=7&r=0&o=5&pid=1.7',\n",
        "'https://th.bing.com/th/id/OIP.JYXSCIpGskpiOxYTw1vuwgAAAA?w=252&h=180&c=7&r=0&o=5&pid=1.7',\n",
        "'https://th.bing.com/th/id/OIP.QjWOHkojgYSz1LhaypSB-gAAAA?w=190&h=180&c=7&r=0&o=5&pid=1.7',\n",
        "'https://th.bing.com/th/id/OIP.Wlfm_lF4VWlYLiPNfbmbDwHaHa?w=181&h=181&c=7&r=0&o=5&pid=1.7',\n",
        "'https://th.bing.com/th/id/OIP.ZquJ_NwCCyWfvpAEeU-vngAAAA?w=142&h=180&c=7&r=0&o=5&pid=1.7',\n",
        "'https://th.bing.com/th/id/OIP.C6q29lesR7-Ork5YKuI6LwAAAA?w=257&h=180&c=7&r=0&o=5&pid=1.7',\n",
        "'https://th.bing.com/th/id/OIP.A7o1Bm-XNr9A_4pLPCCujgAAAA?w=252&h=180&c=7&r=0&o=5&pid=1.7',\n",
        "'https://th.bing.com/th/id/OIP.oSjt2rY3YUScDY7pw3b1WAHaFj?w=236&h=180&c=7&r=0&o=5&pid=1.7',\n",
        "'https://th.bing.com/th/id/OIP.AroTG9KnmisPIhICyGjoDAHaFj?w=223&h=180&c=7&r=0&o=5&pid=1.7',\n",
        "'https://th.bing.com/th/id/OIP.zSyHBN9_rn_O9XBkdPx-agAAAA?w=189&h=180&c=7&r=0&o=5&pid=1.7',\n",
        "'https://th.bing.com/th/id/OIP.pGTxkbwreLj7l2ORZrtA8gAAAA?w=147&h=184&c=7&r=0&o=5&pid=1.7',\n",
        "'https://th.bing.com/th/id/OIP.5SaLUh616MU7KDIP2_0VCwAAAA?w=204&h=180&c=7&r=0&o=5&pid=1.7',\n",
        "'https://th.bing.com/th/id/OIP.S-lrZd2TFhSEpI3VRQyKqQAAAA?w=173&h=180&c=7&r=0&o=5&pid=1.7',\n",
        "'https://th.bing.com/th/id/OIP.sDmZWxXBrF329vZvDu2HrAAAAA?w=266&h=180&c=7&r=0&o=5&pid=1.7',\n",
        "'https://th.bing.com/th/id/OIP.5umgRLykyWn-v_5HmOS0NAHaE7?w=243&h=180&c=7&r=0&o=5&pid=1.7',\n",
        "'https://th.bing.com/th/id/OIP.MPayRq2bYdhfVUj5O9BCnwAAAA?w=125&h=184&c=7&r=0&o=5&pid=1.7',\n",
        "'https://th.bing.com/th/id/OIP.OeLv1q1dEfGkl1bRHfM5awHaFj?w=240&h=180&c=7&r=0&o=5&pid=1.7',\n",
        "'https://th.bing.com/th/id/OIP.MksSZEmu5Cgly2HNvRp4NQAAAA?w=180&h=163&c=7&r=0&o=5&pid=1.7',\n",
        "'https://th.bing.com/th/id/OIP.HCpPn-IRV8SVidBlRoBRUwHaE7?w=287&h=191&c=7&r=0&o=5&pid=1.7'\n",
        "]"
      ],
      "metadata": {
        "id": "TQb-CBRl9SIU"
      },
      "execution_count": null,
      "outputs": []
    },
    {
      "cell_type": "markdown",
      "source": [
        "Part A\n",
        "1.\tCreate a function to take a URL and a pathname that does the following.<br>\n",
        "a.  Use the request library to download the content (specified by the argument) as bytes. <br>\n",
        "[see wk05_a6_download_file.py]<br><br>\n",
        "b.\tWrite the contents of the uri to the above file name (specified by the argument). <br>\n",
        "[See wk05_a6_download_file.py]<br><br>\n",
        "c.\tPrint a suitable message.\n",
        "\n",
        "Note: If there is a problem with one of the urls in the list then you may substitute it with one of you own."
      ],
      "metadata": {
        "id": "2dCDb1bGAH_w"
      }
    },
    {
      "cell_type": "code",
      "execution_count": null,
      "metadata": {
        "id": "1LwZBCvB6rRQ"
      },
      "outputs": [],
      "source": [
        "def downloadFile(URL, pathname):\n",
        "    try:\n",
        "        r = requests.get(URL, stream=True)               # make a HTTP GET request\n",
        "        with open(pathname, 'wb') as fd:\n",
        "            for chunk in r.iter_content(chunk_size=50):  # small size\n",
        "                print('+', end='')                       # give user feedback\n",
        "                fd.write(chunk)                          # write the bit to file\n",
        "            print('\\n...download completed')             # complete\n",
        "    except requests.exceptions.RequestException as e:    # in case of exceptions\n",
        "        print(f\"Error downloading content: {e}\")"
      ]
    },
    {
      "cell_type": "markdown",
      "source": [
        "Part B\n",
        "1.\tCreate a function that does not require any argument and does the following:<br>\n",
        "a.\tStart timer.<br>\n",
        "[import the time module<br>\n",
        "use time.perf_counter() to get the current time.]<br><br>\n",
        "b.\tCall the function in Part A with appropriate arguments (first the supplied url list and the second one that you will have to generate) to sequentially each url. (Invoke the method after the previous download is completed).<br><br>\n",
        "c.\tEnd timer. <br>\n",
        "[again use time.perf_counter() to get the current time.]<br><br>\n",
        "d.\tPrint elapse times. <br>\n",
        "[subtract (a) from (c).]<br><br>\n",
        "\n",
        "Note: With my present internet connection, I got a time of 2359 milli seconds.\n"
      ],
      "metadata": {
        "id": "JrCYqXGGAhW3"
      }
    },
    {
      "cell_type": "code",
      "source": [
        "def sequential_downloads():\n",
        "  #start timer\n",
        "  start_timer = perf_counter()\n",
        "\n",
        "  for url in urls:\n",
        "    filename = f'image_{urls.index(url) + 1}.jpg'\n",
        "    downloadFile(url,filename)\n",
        "\n",
        "  #end timer\n",
        "  end_timer = perf_counter()\n",
        "\n",
        "  #print elapsed time\n",
        "  elapsed_time_result = end_timer - start_timer\n",
        "  print(f'Total elapsed time =  {elapsed_time_result: .2f} seconds ')\n",
        "sequential_downloads()"
      ],
      "metadata": {
        "id": "Zobdtbj-9Soz",
        "colab": {
          "base_uri": "https://localhost:8080/"
        },
        "outputId": "b23288c4-c170-4847-fedb-efa76bc90eaa"
      },
      "execution_count": null,
      "outputs": [
        {
          "output_type": "stream",
          "name": "stdout",
          "text": [
            "+++++++++++++++++++++++++++++++++++++++++++++++++++++++++++++++++++++++++++++++++++++++++++++++++++++++++++++++++++++++++++++++++++++++++++++++++\n",
            "...download completed\n",
            "++++++++++++++++++++++++++++++++++++++++++++++++++++++++++++++++++++++++++++++++++++++++++++++++++++++++++++++++++++++++++++++++++++++++++++++++++++++++++++++++++++++++++++++++++++++++++++++++++++++++++++++++\n",
            "...download completed\n",
            "+++++++++++++++++++++++++++++++++++++++++++++++++++++++++++++++++++++++++++++++++++++++++++++++++++++++++++++++++++++++++++++++++++++++++++++++++++++++++++++++++++++++++++++++++++++++++++++++++++++++++++++++++++++++++++++++++++++\n",
            "...download completed\n",
            "++++++++++++++++++++++++++++++++++++++++++++++++++++++++++++++++++++++++++++++++++++++++++++++++++++++++++++++++++++++++++++++++++++++++++++++++++++++++++++++++++++++++++++++++++++++++++++++++++++++\n",
            "...download completed\n",
            "+++++++++++++++++++++++++++++++++++++++++++++++++++++++++++++++++++++++++++++++++++++++++++++++++++++++++++++++++++++++++++++++++++++++++++++++++++++++++++++++++++++++++++++++++++++++++++++++++++++++++++++++++++++++++++++++++++++++++++++++++++++++++++++++++++++++++++++++++++++++++++++++++++++++++++++++++++++++++++++++++++++++++++++++++++++++++++++++++++++++++++++++++++++++++++++++++++++++++++++++++++++++++++++++++++++++++++++++++++++++++++++++++++++++++++++++++++\n",
            "...download completed\n",
            "\n",
            "...download completed\n",
            "\n",
            "...download completed\n",
            "++++++++++++++++++++++++++++++++++++++++++++++++++++++++++++++++++++++++++++++++++++++++++++++++++++++++++++++++++++++++++++++++++++++++++++++++++++++++++++++++++++++++++++++++++++++++++++++++++++++++++++++++++++++\n",
            "...download completed\n",
            "+++++++++++++++++++++++++++++++++++++++++++++++++++++++++++++++++++++++++++++++++++++++++++++++++++++++++++++++++++++++++++++++++++++++++++++++++++++++++++++++++++++\n",
            "...download completed\n",
            "++++++++++++++++++++++++++++++++++++++++++++++++++++++++++++++++++++++++++++++++++++++++++++++++++++++++++++++++++++++++++++++++++++++++++++++++++++++++++++++++++++++++++++++++++++++++++++++++++++++++++++++++++++++++++++++++++++++++++++++++++++++++++++++++++++++++++++++++++++++++++++++++++++++++++++++++++++++++++++++++++++++++\n",
            "...download completed\n",
            "\n",
            "...download completed\n",
            "++++++++++++++++++++++++++++++++++++++++++++++++++++++++++++++++++++++++++++++++++++++++++++++++++++++++++++++++++++++++++++++++++++++++++++++++++++++++++++++++++++++++++++++++++++++++++++++++++++++++++++++++++++++++++++++++++++++++++++++++++++++++++++++++++++++++++++++++++++++++++++++++++++++++++++++++++++++++\n",
            "...download completed\n",
            "++++++++++++++++++++++++++++++++++++++++++++++++++++++++++++++++++++++++++++++++++++++++++++++++++++++++++++++++++++++++++++++++++++++++++\n",
            "...download completed\n",
            "\n",
            "...download completed\n",
            "+++++++++++++++++++++++++++++++++++++++++++++++++++++++++++++++++++++++++++++++++++++++++++++++++++++++++++++++++++++++++++++++++++++++++++++++++++++++++++++++++++++++++++++\n",
            "...download completed\n",
            "\n",
            "...download completed\n",
            "+++++++++++++++++++++++++++++++++++++++++++++++++++++++++++++++++++++++++++++++++++++++++++++++++++++++++++++++++++++++++++++++++++++++++++++++++++++++++++++++++++++++++++++++++++++++++++++++++\n",
            "...download completed\n",
            "+++++++++++++++++++++++++++++++++++++++++++++++++++++++++++++++++++++++++++++++++++++++++++++++++++++++++++++++++++++++++++++++++++++++++++++++++++++++++++++++++++++++++++++++++++++++++++++++++++++++++++++++++++++++++++++++++++\n",
            "...download completed\n",
            "++++++++++++++++++++++++++++++++++++++++++++++++++++++++++++++++++++++++++++++++++++++++++++++++++++++++++++++++++++++++++++++++++++++++++++++++++++++++++++++++++++\n",
            "...download completed\n",
            "++++++++++++++++++++++++++++++++++++++++++++++++++++++++++++++++++++++++++++++++++++++++++++++++++++++++++++++++++++++++++++++++++++++++++++++++++++++++++++++++++++++++++++++++++++++++++++++++++++++++++++++++++++++++++++++++++++++++++++++++++++++++++++++++++++++\n",
            "...download completed\n",
            "\n",
            "...download completed\n",
            "\n",
            "...download completed\n",
            "++++++++++++++++++++++++++++++++++++++++++++++++++++++++++++++++++++++++++++++++++++++++++++++++++++++++++++++++++++++++++++++++++++++++++++++++++++++++++++++++++++++++++++++++++++++++++++++++++++++++++++++++++++++++++++++++++++++++++++++++++++++++++++++++++++++++++++++++++++++++++++++++++++++++++++++\n",
            "...download completed\n",
            "++++++++++++++++++++++++++++++++++++++++++++++++++++++++++++++++++++++++++++++++++++++++++++++++++++++++++++++++++++++++++++++++++++++++++++++++++++++++++++++++++++++++++++++++++++++++++++++++++++++++++++++++++++++++++++++++++++++++++++++++\n",
            "...download completed\n",
            "\n",
            "...download completed\n",
            "Total elapsed time =   5.83 seconds \n"
          ]
        }
      ]
    },
    {
      "cell_type": "markdown",
      "source": [
        "Part C\n",
        "1.\tCreate a function that does not require an argument and does the following:<br><br>\n",
        "a.\tStart timer.<br><br>\n",
        "b.\tIn a threaded fashion, call the function in Part A with appropriate arguments.<br>\n",
        "[see wk03_d2_threading.py.]<br>\n",
        "If your system complains about replacing the files in Part 2, you will need to remove/delete the files before running this part<br><br>\n",
        "c.\tEnd timer when all the threads have completed their downloads.<br><br>\n",
        "d.\tPrint elapse times.<br><br>\n",
        "See the hints for Part B.<br>\n",
        "\n",
        "Note: With my present internet connection, I got a time of 2359 milli seconds."
      ],
      "metadata": {
        "id": "XeWQaFCDA4ex"
      }
    },
    {
      "cell_type": "code",
      "source": [
        "def dlThread():\n",
        "  start = perf_counter()        #assigns the timer to a variable\n",
        "  thread = []                   #creats an empty thread\n",
        "\n",
        "  for i in urls:\n",
        "    path = f'{filepath}threaded_image_{urls.index(i) + 1}.jpg'\n",
        "    u1 = Thread(\n",
        "        target = downloadFile,  #this sets the target method for threading\n",
        "        #name= i,                #optional name\n",
        "        args=(i, path)          #sets the argument as i - urls - and path\n",
        "    )\n",
        "    u1.start()                  #this starts the timer\n",
        "    thread.append(u1)           #this add to the thread\n",
        "\n",
        "  for i in thread:\n",
        "    i.join()\n",
        "    #lap = perf_counter()     #lap counter\n",
        "    #print(f'Finished downloading in {round(lap-start, 4)} seconds.')   #individual download counter\n",
        "\n",
        "  end = perf_counter()        #end counter\n",
        "  print(f'Finished downloading all in {round(end-start, 4)} seconds.')  #overall time\n",
        "\n",
        "#This is my path as in Jonathan Au\n",
        "filepath = 'insert path here' #This will work if you put in a valid filepath\n",
        "#filepath = 'E:\\My Library\\My Documents\\Centennial College\\A.I. - Soft_Engineering\\Semester 4\\COMP 216 - Networking for Software Devs\\Assignments\\Assignment 5\\IMGs\\'\n",
        "dlThread()"
      ],
      "metadata": {
        "id": "oB7FTiwdBKQ_",
        "colab": {
          "base_uri": "https://localhost:8080/"
        },
        "outputId": "7c129289-5a89-4fa0-d0c3-abf1fac35492"
      },
      "execution_count": null,
      "outputs": [
        {
          "output_type": "stream",
          "name": "stdout",
          "text": [
            "+++++++++++++++++++++++++++++++++++++++++++++++++++++++++++++++++++++++++++++++++++++++++++++++++++++++++++++++++++++++++++++++++++++++++++++++++\n",
            "...download completed\n",
            "\n",
            "...download completed\n",
            "+++++++++++++++++++++++++++++++++++++++++++++++++++++++++++++++++++++++++++++++++++++++++++++++++++++++++++++++++++++++++++++++++++++++++++++++++++++++++++++++++++++++++++++++++++++++++++++++++++++++++++++++++++++++++++++++++++++++++++++++++++++++++++++++++++++++++++++++++++++++++++++++++++++++++++++++++++++++++++++++++++++++++++++++++++++++++++++++++++++++++++++++++++++++++++++++++++++++++++++++++++++++++++++++++++++++++++++++++++++++++++++++++++++++++++++++++++++++++++++++++++++++++++++++++++++++++++++++++++++++++++++++++++++++++++++++++++++++++++++++++++++++++++++++++++++++++++++++++++++++++++++++++++++++++++++++++++++++++++++++++++++++++++++++++++++++\n",
            "...download completed\n",
            "++++++++++++++++++++++++++++++++++++++++++++++++++++++++++++++++++++++++++++++++++++++++++++++++++++++++++++++++++++++++++++++++++++++++++++++++++++++++++++++++++++++++++++++++++++++++++++++++++++++++++++\n",
            "...download completed\n",
            "+++++++++++++++++++++++++++++++++++++++++++++++++++++++++++++++++++++++\n",
            "...download completed\n",
            "+++++++++++++++++++++++++++++++++++++++++++++++++++++++++++++++++++++++++++++++++++++++++++++++++++++++++++++++++++++++++++++++++++++++++++++++++++++++++++++++++++++++++++++++++++++++++++++++++++++++++++++++++++++++++++++++++++++++++++++++++++++++++\n",
            "...download completed\n",
            "+++++++++++++++++++++++++++++++++++++++++++++++++++++++++++++++++++++++++++++++++++++++++++++++\n",
            "...download completed\n",
            "++++++++++++++++++++++++++++++++++++++++++++++++++++++++++++++++++++++++++++++++++++++++++++++++++++++++++++++++++++\n",
            "...download completed\n",
            "+++++++++++++++++++++++++++++++++++++++++++++++++++++++++++++++++++++++++++++++++++++++++++++++++++++++++++++++++++++++++++++++++++++++++++++++++++++++++++++++++++++++++++++++++++++++++++++++++++++++++++++++++++++++++++++++++++++++++++++++++++++++\n",
            "...download completed\n",
            "++++++++++++++++++++++++++++++++++++++++++++++++++++++++++++++++++++++++++++++++++++++++++++++++++++++++++++++++++++++++++++++++++++++++++++++++++++++++++++++++++++++++++++++++++++++++++++++++++++++++++++++++++++++++++++++++++++++++++++++++++++++++++++++++++++++++++++++++++++++++++++++++++++++++++++++++++++++++++++++++++++++++++++++++++++++++++++++++++++++++++++++++++++++++++++++++++++++++++++++++++++++++++++++++++++++++++++++++++++++++++++++++++++++++++++++++++++++++++++++++++\n",
            "...download completed\n",
            "++++++++++++++++\n",
            "...download completed\n",
            "++++++++++++++++++++++++++++++++++++++++++++++\n",
            "...download completed\n",
            "++++++++++++++++++++++++++++++++++++++++++++++++++++++++++++++++++++++++++++++++++++++++++++++++++++++++++++++++++++++++++++++++++\n",
            "...download completed\n",
            "+++++++++++++++++++++++++++++++++++++++++++++++++\n",
            "...download completed\n",
            "++++++++++++++++++++++++++++++++++++++++++++++++++++++++++++++++\n",
            "...download completed\n",
            "+++++++++++++++++++++++++++++++++++++++++++++++++++++++++++++++++++++++++++++++++++++++++++++++++++++++++++++++++++++++++++++++++++++++++++++++++++++++++++++++++++++++++++++++++++++++++++++++++++++++++++++++++++++++++++++++++++++++++++++++++++++++++++++++++++++++++++++++++++++++++++++++++++++++++++++++++++++++++++++++++++++\n",
            "...download completed\n",
            "+++++++++++++++++++++++++++++++++++++++++++++++++++++++++++++++++++++++++++++++++++++++++++++++\n",
            "...download completed\n",
            "\n",
            "...download completed\n",
            "++++++++++++++++++++++++++++++++++++++++++++++++++++++++++++++++++++++++++++++++++++++++++++++++++++++++++++++++++++++++++++++++++++++++++++++++++++++++++++++++++++\n",
            "...download completed\n",
            "+++++++++++++++++++++++++++++++++++++++++++++++++++++++++++++++++++++++++++++++++++++++++++++++++++++++++++++++++++++++++++++++++++++++++++++++++++++++++++++++++++++++++++++++++++++++++++++++++++++++++++++++++++++++++++++++++++++++++++++++++++++++++++++++++++++++++++++++++++++++++++++++++++++++++++++++++++++++++++++++++++++++++++++++++++++++++++++++++++++++++++++++++++++++++++++++++++++++++++++++++++++++++++++++++++++++++++++++++++++++++++++++++++++++++++++++++++++\n",
            "...download completed\n",
            "+++++++++++++++++++++++++++++++++++++++\n",
            "...download completed\n",
            "++++++++++++++++++++++++++++++++++++\n",
            "...download completed\n",
            "+++++++++++\n",
            "...download completed\n",
            "+++++++++++++++++++++++++++++++++++++++++++++++++++++++++++++++++++++++++++++++++++++++++++++++++++++++++++++++++++++++++++++++++++++++++++++++++++++++++++++++++++++++++++++++++++++++++++++++\n",
            "...download completed\n",
            "++++++++++++++++++++++++++++++++++++++++++++++++++++++++++\n",
            "...download completed\n",
            "Finished downloading all in 2.3404 seconds.\n"
          ]
        }
      ]
    },
    {
      "cell_type": "markdown",
      "source": [
        "Part D\n",
        "1.\tIf the script is running as an executable, it does the following:<br><br>\n",
        "a.\tCreates an ArgumentParser and adds two arguments<br>\n",
        "i.\tA mandatory argument that may be either serial or threaded<br>\n",
        "ii.\tAn optional argument that allows the user to specify a data folder to download the images to a seperate folder<br><br>\n",
        "b.\tIf the mandatory argument is supplied, then invoke the appropriate method (either Part B or Part C).<br>\n"
      ],
      "metadata": {
        "id": "V2ubLelbBKj5"
      }
    },
    {
      "cell_type": "code",
      "source": [
        "import argparse\n",
        "\n",
        "def main():\n",
        "    parser = argparse.ArgumentParser(description='Download images')\n",
        "    parser.add_argument('method', choices=['serial', 'threaded'], help='Download method')\n",
        "    parser.add_argument('--folder', '-i', help='Data folder to download the images to')\n",
        "    args = parser.parse_args()\n",
        "\n",
        "    if args.method == 'serial':\n",
        "      sequential_downloads()\n",
        "    elif args.method == 'threaded':\n",
        "      dlThread()\n"
      ],
      "metadata": {
        "id": "FshQwRXOBMDu"
      },
      "execution_count": null,
      "outputs": []
    }
  ]
}