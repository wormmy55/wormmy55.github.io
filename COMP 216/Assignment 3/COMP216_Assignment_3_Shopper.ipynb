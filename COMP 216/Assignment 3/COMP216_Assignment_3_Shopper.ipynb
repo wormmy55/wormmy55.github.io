{
  "nbformat": 4,
  "nbformat_minor": 0,
  "metadata": {
    "colab": {
      "provenance": []
    },
    "kernelspec": {
      "name": "python3",
      "display_name": "Python 3"
    },
    "language_info": {
      "name": "python"
    }
  },
  "cells": [
    {
      "cell_type": "markdown",
      "source": [
        "Name: Jonathan Au<br>\n",
        "Student ID: 300827701<br>\n",
        "Date: Feb 4, 2024<br>"
      ],
      "metadata": {
        "id": "chmI4dYEclnN"
      }
    },
    {
      "cell_type": "markdown",
      "source": [
        "# Lab 2 – Shopper Class.\n",
        "This is an individual lab. Using a jupyter notebook (best done on google colab) write the python statement to define a Shopper class. The test harness is provided to you by the instructor as well as the resulting output given.\n",
        "\n",
        "\n",
        "## Description of the Shopper Class\n",
        "### Class variable\n",
        "There are six class variables i.e. variables that are shared by all objects of this class\n",
        "<br>\n",
        "\n",
        "__prices<br>\n",
        "This is a python dict that contains the grocery items as well as their unit price. This is defined as follows:<br>\n",
        "<br>\n",
        "\n",
        "__sale_items<br>\n",
        "This is a list that contains all the items that are on sale in this period. A discount of 15% is applied to the price of each item in this collection. This is defined as follows:<br>\n",
        "<br>\n",
        "\n",
        "Four other Class Variables: <br>\n",
        "__discount_threshold<br>\n",
        "When the total cost of a purchase exceeds this amount then a discount is applied to the cost<br>\n",
        "<br>\n",
        "\n",
        "__default_price<br>\n",
        "If an item is not found in the __prices dictionary, then this will be the default price<br>\n",
        "<br>\n",
        "\n",
        "__volume_discount<br>\n",
        "This is the rate of discount when the total cost exceeds the discount_threshold<br>\n",
        "<br>\n",
        "\n",
        "__sales_discount<br>\n",
        "This is the rate of discount on an item if this item is in the __sales_time list.<br>\n",
        "<br>\n"
      ],
      "metadata": {
        "id": "O03N6HqZdJWw"
      }
    },
    {
      "cell_type": "markdown",
      "source": [
        "## Constructor\n",
        "The constructor takes two argument that represents the name of the shopper and the amount of money she has. It assigns the argument to appropriate instance variable. It also creates an empty list to store the purchases.<br>\n",
        "Each purchase is a single tuple comprising of the name of the item and the price actually paid for the item.<br>\n",
        "\n",
        "## Instance property\n",
        "There is a single instance property that returns the name of this shopper object<br>\n",
        "\n",
        "## Class method\n",
        "There are three class methods:\n",
        "1.\tOne that returns the price list.\n",
        "2.\tOne that returns the list of sale items.\n",
        "3.\tOne that adds a new item to the sale items list.\n",
        "\n",
        "## Instance method\n",
        "There are 2 instance methods:\n",
        "\n",
        "### purchase\n",
        "This method takes a list of items to be purchase. It calculates the total price of the purchase by processing each item in the argument as show below:<br>\n",
        "  The price of an item is obtained from the price list. If it is not found in the price list then the default price is used. <br>[How to determine if an item in not in the dict]<br>\n",
        "  If the item is in the sales list then a discount is applied to the price<br>\n",
        "  The item as well as the result price is added to the list as a tuple. <br>[How to create a tuple with name and price and how to add the tuple to the list]<br>\n",
        "  When all the items are processed, if the final cost is over the credit threshold, then a discount is applied to this amount and then subtracted from the amount of money this object has left over.<br>\n",
        "\n",
        "### __str__\n",
        "This method returns a string representing this object i.e. the name, cash and all its purchases pertaining to this shopper.\n"
      ],
      "metadata": {
        "id": "_70ISG1wfI-W"
      }
    },
    {
      "cell_type": "code",
      "source": [
        "class Shopper:\n",
        "  #Class Variables\n",
        "  __prices = { 'apple': 1.8, 'bread': 2.2, 'milk': 4.9, 'pepper': 1.2 }\n",
        "  __sale_items = 'apple banana pepper'.split()\n",
        "  __discount_threshold = 6\n",
        "  __default_price = 2.50\n",
        "  __volume_discount = 0.9\n",
        "  __sales_discount = 0.85\n",
        "\n",
        "  #Instance property\n",
        "  name = ''\n",
        "\n",
        "  #Constructor\n",
        "  def __init__(self, name, money):\n",
        "    self.name = name\n",
        "    self.money = money\n",
        "    self.items = []\n",
        "    self.price = []\n",
        "    self.cost = 0\n",
        "\n",
        "  #Class methods\n",
        "  def price_list():\n",
        "    return Shopper.__prices\n",
        "\n",
        "  def sale_items():\n",
        "   return Shopper.__sale_items\n",
        "\n",
        "  def add_sale_item(item):\n",
        "    item = [] + item.split()\n",
        "    return item\n",
        "\n",
        "  #instance methods\n",
        "  def purchase(self, items):\n",
        "    self.items = tuple(items)\n",
        "    self.item_price = ()\n",
        "    for i in self.items:\n",
        "      if i in Shopper.__prices:\n",
        "        self.item_price = Shopper.__prices[i]\n",
        "      else:\n",
        "        self.item_price = Shopper.__default_price\n",
        "      if i in Shopper.__sale_items:\n",
        "        self.item_price = self.item_price * Shopper.__sales_discount\n",
        "      self.cost += self.item_price\n",
        "      self.item_price = (i, self.item_price)\n",
        "      self.price.append(self.item_price)\n",
        "\n",
        "    if self.cost > Shopper.__discount_threshold:\n",
        "      self.cost = self.cost * Shopper.__volume_discount\n",
        "    self.money = round(self.money - self.cost, 2)\n",
        "    return f'{self.items}'\n",
        "\n",
        "  def __str__(self):\n",
        "    return f'{self.name} cash in hand ${self.money}\\nitems: {self.price}'\n"
      ],
      "metadata": {
        "id": "37x0EzA6gEAQ"
      },
      "execution_count": 79,
      "outputs": []
    },
    {
      "cell_type": "markdown",
      "source": [
        "# Test Harness\n",
        "You may not change the test harness.\n"
      ],
      "metadata": {
        "id": "Wj-kgH2wgKSu"
      }
    },
    {
      "cell_type": "code",
      "source": [
        "print(f'Price dict: {Shopper.price_list()}')\n",
        "print(f'Sales list: {Shopper.sale_items()}')\n",
        "\n",
        "nar = Shopper('Narendra', 20)      #create a shopper object\n",
        "print(f'\\n{nar}')                  #display the object\n",
        "\n",
        "items = 'bread milk bread'.split() #list of items to buy\n",
        "print(f'\\n{nar.name} is purchasing: {items}')\n",
        "nar.purchase(items)                #volume discount\n",
        "print(f'{nar}')                    #display the object\n",
        "\n",
        "ilia = Shopper('Ilia', 25)         #new shopper\n",
        "items = 'banana milk'.split()      #one sale item\n",
        "print(f'\\n{ilia.name} is purchasing: {items}')\n",
        "ilia.purchase(items)\n",
        "print(f'{ilia}')                   #display the object\n",
        "\n",
        "Shopper.add_sale_item('pepper')    #add pepper to the sales items list\n",
        "\n",
        "arben = Shopper('Arben', 15)       #new shopper\n",
        "items = 'apple pepper cauliflower pepper'.split() #cauliflower is not on the price list\n",
        "print(f'\\n{arben.name} is purchasing: {items}')\n",
        "arben.purchase(items)\n",
        "print(f'{arben}')                  #display the object\n",
        "\n",
        "#you don't need to understand the code below\n",
        "#it is for verification purposes\n",
        "members = [member for member in dir(Shopper) if not member.startswith('_')]\n",
        "print(f'\\nPublic members of the class: {members}')\n",
        "properties = [member for member in members if not callable(getattr(Shopper, member))]\n",
        "print(f'Public properties: {properties}')\n",
        "methods = [member for member in members if callable(getattr(Shopper, member))]\n",
        "print(f'Public methods: {methods}')\n"
      ],
      "metadata": {
        "id": "7mrkZ4uggNjE",
        "colab": {
          "base_uri": "https://localhost:8080/"
        },
        "outputId": "fbe9499e-ad8e-45a1-85d4-2e5605622315"
      },
      "execution_count": 78,
      "outputs": [
        {
          "output_type": "stream",
          "name": "stdout",
          "text": [
            "Price dict: {'apple': 1.8, 'bread': 2.2, 'milk': 4.9, 'pepper': 1.2}\n",
            "Sales list: ['apple', 'banana', 'pepper']\n",
            "\n",
            "Narendra cash in hand $20\n",
            "items: []\n",
            "\n",
            "Narendra is purchasing: ['bread', 'milk', 'bread']\n",
            "Narendra cash in hand $11.63\n",
            "items: [('bread', 2.2), ('milk', 4.9), ('bread', 2.2)]\n",
            "\n",
            "Ilia is purchasing: ['banana', 'milk']\n",
            "Ilia cash in hand $18.68\n",
            "items: [('banana', 2.125), ('milk', 4.9)]\n",
            "\n",
            "Arben is purchasing: ['apple', 'pepper', 'cauliflower', 'pepper']\n",
            "Arben cash in hand $9.54\n",
            "items: [('apple', 1.53), ('pepper', 1.02), ('cauliflower', 2.5), ('pepper', 1.02)]\n",
            "\n",
            "Public members of the class: ['add_sale_item', 'name', 'price_list', 'purchase', 'sale_items']\n",
            "Public properties: ['name']\n",
            "Public methods: ['add_sale_item', 'price_list', 'purchase', 'sale_items']\n"
          ]
        }
      ]
    },
    {
      "cell_type": "markdown",
      "source": [
        "# Program Output\n",
        "Your output must be identical to the below.\n",
        "\n",
        "Price dict: {'apple': 1.8, 'bread': 2.2, 'milk': 4.9, 'pepper': 1.2}<br>\n",
        "Sales list: ['apple', 'banana', 'pepper']<br>\n",
        "\n",
        "\n",
        "Narendra cash in hand $20.00<br>\n",
        "  items:<br>\n",
        "  []\n",
        "\n",
        "\n",
        "Narendra is purchasing: ['bread', 'milk', 'bread']<br>\n",
        "Narendra cash in hand $11.63<br>\n",
        "  items:<br>\n",
        "  [('bread', 2.2), ('milk', 4.9), ('bread', 2.2)]\n",
        "\n",
        "\n",
        "Ilia is purchasing: ['banana', 'milk']<br>\n",
        "Ilia cash in hand $18.68<br>\n",
        "  items:<br>\n",
        "  [('banana', 2.125), ('milk', 4.9)]\n",
        "\n",
        "\n",
        "Arben is purchasing: ['apple', 'pepper', 'cauliflower', 'pepper']<br>\n",
        "Arben cash in hand $9.54<br>\n",
        "  items:<br>\n",
        "  [('apple', 1.53), ('pepper', 1.02), ('cauliflower', 2.5), ('pepper', 1.02)]\n",
        "\n",
        "\n",
        "Public members of the class: ['add_sale_item', 'name', 'price_list', 'purchase', 'sale_items']<br>\n",
        "Public properties: ['name']<br>\n",
        "Public methods: ['add_sale_item', 'price_list', 'purchase', 'sale_items']\n",
        "\n"
      ],
      "metadata": {
        "id": "GSakONR9gS4O"
      }
    },
    {
      "cell_type": "markdown",
      "source": [
        "## How to do this assignment.\n",
        "From the above description and test harness and the result output below, try to deduce the definition of the Shopper class. Code this class in a jupyter notebook and copy the test harness to a cell below. Execute the notebook and ensure that the output matches EXACTLY with the output on the following page.\n",
        "You must use python f-strings for your output.\n",
        "## Documentation.\n",
        "Because the code is so simple no code documentation is required, however you must put your name and the current date somewhere at the top of your code.\n",
        "## How to submit this assignment.\n",
        "Make the notebook shareable and submit the link to the course dropbox.\n",
        "See the course documentation on deadlines.\n"
      ],
      "metadata": {
        "id": "Wuka1e4ygEYQ"
      }
    }
  ]
}